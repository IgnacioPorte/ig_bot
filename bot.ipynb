{
 "cells": [
  {
   "cell_type": "code",
   "execution_count": null,
   "metadata": {},
   "outputs": [],
   "source": [
    "# IMPORTAR LIBRERIAS\n",
    "import parametros as ps\n",
    "import winsound\n",
    "from selenium import webdriver\n",
    "from selenium.webdriver.common.by import By\n",
    "from selenium.webdriver.common.keys import Keys\n",
    "from selenium.webdriver.support.ui import WebDriverWait\n",
    "from selenium.webdriver.support import expected_conditions as EC\n",
    "\n",
    "from selenium.webdriver.support.expected_conditions import presence_of_element_located\n",
    "from time import sleep\n",
    "from random import uniform"
   ]
  },
  {
   "cell_type": "code",
   "execution_count": null,
   "metadata": {},
   "outputs": [],
   "source": [
    "PATH = ps.PATH\n",
    "USER = ps.USUARIO\n",
    "PASSWORD = ps.CONTRASENA\n",
    "# Iniciar sesion\n",
    "driver = webdriver.Chrome(PATH)\n",
    "driver.get('https://instagram.com/')\n",
    "sleep(uniform(4, 6))"
   ]
  },
  {
   "cell_type": "code",
   "execution_count": null,
   "metadata": {},
   "outputs": [],
   "source": [
    "usuario = driver.find_element(By.XPATH,'//*[@id=\"loginForm\"]/div/div[1]/div/label/input')\n",
    "usuario.click()\n",
    "sleep(uniform(4, 6))\n",
    "for i in USER:\n",
    "    usuario.send_keys(i)\n",
    "    sleep(uniform(0.05, 0.25))\n",
    "sleep(uniform(0.5, 1))\n",
    "contrasena = driver.find_element(By.XPATH,'//*[@id=\"loginForm\"]/div/div[2]/div/label/input')\n",
    "contrasena.click()\n",
    "sleep(uniform(2, 5))\n",
    "for i in PASSWORD:\n",
    "    contrasena.send_keys(i)\n",
    "    sleep(uniform(0.05, 0.25))\n",
    "submit = driver.find_element(By.XPATH,'//*[@id=\"loginForm\"]/div/div[3]')\n",
    "submit.click()\n",
    "sleep(uniform(2, 5))"
   ]
  },
  {
   "cell_type": "code",
   "execution_count": null,
   "metadata": {},
   "outputs": [],
   "source": [
    "ahora_no = driver.find_element(By.XPATH,\"//section//main//div//div//div//div//button[text()='Not Now']\")\n",
    "ahora_no.click()\n",
    "sleep(uniform(2, 5))                    # /html/body/div[4]/div/div/div/div[3]/button[2]\n",
    "ahora_no2 = driver.find_element(By.XPATH,\"//div//div//div//div//button[text()='Not Now']\")\n",
    "ahora_no2.click()                         \n",
    "sleep(uniform(4, 7))"
   ]
  },
  {
   "cell_type": "code",
   "execution_count": null,
   "metadata": {},
   "outputs": [],
   "source": [
    "account_name = \"follow_this_account_followers\""
   ]
  },
  {
   "cell_type": "code",
   "execution_count": null,
   "metadata": {},
   "outputs": [],
   "source": [
    "# SEGUIR SEGUIDORES\n",
    "\n",
    "# apretar la barra de busqueda\n",
    "\n",
    "search = driver.find_element(By.XPATH,'//*[@id=\"react-root\"]/section/nav/div[2]/div/div/div[2]/input')\n",
    "# escribir el nombre de usuario\n",
    "for i in account_name:\n",
    "    search.send_keys(i)\n",
    "    sleep(uniform(0.1, 0.3))\n",
    "sleep(uniform(1, 3))\n",
    "# hacer la busqueda del usuario\n",
    "driver.find_element(By.XPATH,'//*[@id=\"react-root\"]/section/nav/div[2]/div/div/div[2]/div[3]/div/div[2]/div/div[1]/a').click()\n",
    "sleep(uniform(2, 4))\n",
    "# apretar los seguidores del usuario\n",
    "driver.find_element(By.XPATH,'//*[@id=\"react-root\"]/section/main/div/header/section/ul/li[2]/a').click()\n",
    "sleep(uniform(2, 4))"
   ]
  },
  {
   "cell_type": "code",
   "execution_count": null,
   "metadata": {},
   "outputs": [],
   "source": [
    "# SEGUIR SEGUIDORES\n",
    "fBody = driver.find_element(By.XPATH,\"//div[@class='isgrP']\")\n",
    "driver.execute_script('arguments[0].scrollTop = arguments[0].scrollTop + arguments[0].offsetHeight;', fBody)\n",
    "sleep(uniform(2, 3))\n",
    "driver.execute_script('arguments[0].scrollTop = arguments[0].scrollTop + arguments[0].offsetHeight;', fBody)\n",
    "sleep(uniform(2, 3))\n",
    "driver.execute_script('arguments[0].scrollTop = arguments[0].scrollTop + arguments[0].offsetHeight;', fBody)\n",
    "sleep(uniform(2, 3))\n",
    "driver.execute_script('arguments[0].scrollTop = 0;', fBody)\n",
    "contador = 0\n",
    "while contador < 200:\n",
    "    while True:\n",
    "        try:\n",
    "            boton_follow = WebDriverWait(driver, 1).until(EC.element_to_be_clickable((By.XPATH, \"//li//div//div//button[text()='Follow']\")))\n",
    "            break\n",
    "        except Exception:\n",
    "            driver.execute_script('arguments[0].scrollTop = arguments[0].scrollTop + arguments[0].offsetHeight;', fBody)\n",
    "    contador += 1\n",
    "    boton_follow.click()\n",
    "    if contador % 10 == 0:\n",
    "        print(contador)\n",
    "    sleep(uniform(40, 80))\n",
    "duration = 3000  # milliseconds\n",
    "freq = 500  # Hz\n",
    "winsound.Beep(freq, duration)\n",
    "print(f\"Segundo contador: {contador}\")"
   ]
  },
  {
   "cell_type": "code",
   "execution_count": null,
   "metadata": {},
   "outputs": [],
   "source": [
    "# DEJAR DE SEGUIR\n",
    "\n",
    "# IR A MI PERFIL\n",
    "driver.find_element(By.XPATH,'//nav//div//div//div//div//div//div//span//img').click()\n",
    "sleep(uniform(2, 3))\n",
    "driver.find_element(By.XPATH,\"//a//div//div//div//div//div[text()='Profile']\").click()\n",
    "sleep(uniform(2, 3))\n",
    "# APRETAR SEGUIDORES\n",
    "driver.find_element(By.XPATH,'//header//section//ul//li//a[text()=\" following\"]').click()"
   ]
  },
  {
   "cell_type": "code",
   "execution_count": null,
   "metadata": {},
   "outputs": [],
   "source": [
    "# DEJAR DE SEGUIR\n",
    "fBody = driver.find_element(By.XPATH,\"//div[@class='isgrP']\")\n",
    "contador = 0\n",
    "while contador < 200:\n",
    "    while True:\n",
    "        try:\n",
    "            boton_unfollow = WebDriverWait(driver, 1).until(EC.element_to_be_clickable((By.XPATH, \"//li//div//div//button[text()='Following']\")))\n",
    "            break\n",
    "        except Exception:\n",
    "            driver.execute_script('arguments[0].scrollTop = arguments[0].scrollTop + arguments[0].offsetHeight;', fBody)\n",
    "    contador += 1\n",
    "    boton_unfollow.click()\n",
    "    sleep(uniform(1, 2))\n",
    "    confirm_unfollow = WebDriverWait(driver, 10).until(EC.element_to_be_clickable((By.XPATH, \"//div//div//button[text()='Unfollow']\")))\n",
    "    confirm_unfollow.click()\n",
    "    if contador % 10 == 0:\n",
    "        print(contador)\n",
    "    sleep(uniform(40, 60))\n",
    "duration = 3000  # milliseconds\n",
    "freq = 500  # Hz\n",
    "winsound.Beep(freq, duration)\n",
    "print(f\"Segundo contador: {contador}\")"
   ]
  },
  {
   "cell_type": "code",
   "execution_count": null,
   "metadata": {},
   "outputs": [],
   "source": [
    "# like posts\n",
    "# driver.find_element(By.XPATH,'//*[@id=\"react-root\"]/section/nav/div[2]/div/div/div[3]/div/div[1]/div/a').click()\n",
    "# sleep(1)\n",
    "# new_height = 0\n",
    "# aumento = uniform(300, 350)\n",
    "# aumento = 1000\n",
    "# driver.execute_script(f\"window.scrollTo({new_height}, {new_height + aumento});\")\n",
    "# new_height = new_height + aumento\n",
    "# sleep(uniform(0.2, 4))\n",
    "# if random() >= 0.85:\n",
    "#     disminucion = uniform(300, 350)\n",
    "#     driver.execute_script(f\"window.scrollTo({new_height}, {new_height - disminucion});\")\n",
    "#     sleep(uniform(0.2, 4))\n",
    "# if random() >= 0.7:\n",
    "#     if EC.presence_of_element_located((By.CLASS_NAME, 'fr66n')):\n",
    "#         like = driver.find_element_by_class_name('fr66n')\n",
    "#         print(\"clickeable\")\n",
    "#         if like.location['y'] >= 200 and like.find_element_by_css_selector('span > button > div > span > svg').get_attribute('aria-label') == 'Me gusta':\n",
    "#             print(\"Me gusta click\")\n",
    "#             driver.find_element_by_class_name('fr66n').click()\n",
    "#     sleep(uniform(0.2, 4))"
   ]
  },
  {
   "cell_type": "code",
   "execution_count": null,
   "metadata": {},
   "outputs": [],
   "source": [
    "# driver.find_element(By.XPATH,'//*[@id=\"react-root\"]/section/nav/div[2]/div/div/div[3]/div/div[1]/div/a').click()\n",
    "# new_height = 0\n",
    "# while True:\n",
    "#     aumento = uniform(300, 350)\n",
    "#     driver.execute_script(f\"window.scrollTo({new_height}, {new_height + aumento});\")\n",
    "#     new_height = new_height + aumento\n",
    "#     sleep(uniform(0.2, 4))\n",
    "#     if random() >= 0.85:\n",
    "#         disminucion = uniform(300, 350)\n",
    "#         driver.execute_script(f\"window.scrollTo({new_height}, {new_height - disminucion});\")\n",
    "#         sleep(uniform(0.2, 4))\n",
    "#     if random() >= 0.7:\n",
    "#         if EC.presence_of_element_located((By.CLASS_NAME, 'fr66n')):\n",
    "#             like = driver.find_element_by_class_name('fr66n')\n",
    "#             print(\"clickeable\")\n",
    "#             if like.location['y'] >= 200 and like.find_element_by_css_selector('span > button > div > span > svg').get_attribute('aria-label') == 'Me gusta':\n",
    "#                 print(\"Me gusta click\")\n",
    "#                 driver.find_element_by_class_name('fr66n').click()\n",
    "#         sleep(uniform(0.2, 4))"
   ]
  },
  {
   "cell_type": "code",
   "execution_count": null,
   "metadata": {},
   "outputs": [],
   "source": [
    "driver.quit()"
   ]
  }
 ],
 "metadata": {
  "interpreter": {
   "hash": "db7124c06da9344ef25f24daa9ae893c9a32779ed1200c281e365d1402a2d043"
  },
  "kernelspec": {
   "display_name": "Python 3.9.7 64-bit",
   "name": "python3"
  },
  "language_info": {
   "codemirror_mode": {
    "name": "ipython",
    "version": 3
   },
   "file_extension": ".py",
   "mimetype": "text/x-python",
   "name": "python",
   "nbconvert_exporter": "python",
   "pygments_lexer": "ipython3",
   "version": "3.9.7"
  },
  "metadata": {
   "interpreter": {
    "hash": "5208ece860cd8f659edbc8d402425989a1be8cb2cbdc0b946175eff23c10f70c"
   }
  }
 },
 "nbformat": 4,
 "nbformat_minor": 2
}
